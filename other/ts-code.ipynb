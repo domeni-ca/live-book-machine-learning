{
 "cells": [
  {
   "cell_type": "markdown",
   "metadata": {
    "toc": true
   },
   "source": [
    "<h1>Table of Contents<span class=\"tocSkip\"></span></h1>\n",
    "<div class=\"toc\"><ul class=\"toc-item\"></ul></div>"
   ]
  },
  {
   "cell_type": "code",
   "execution_count": 37,
   "metadata": {},
   "outputs": [
    {
     "name": "stdout",
     "output_type": "stream",
     "text": [
      "Dataset refeito com a Design Matrix X e Target Values y\n",
      "    Count  Feature_2  Target\n",
      "0       1        2.0     3.0\n",
      "1       2        3.0     4.0\n",
      "2       3        4.0     5.0\n",
      "3       4        5.0     6.0\n",
      "4       5        6.0     7.0\n",
      "..    ...        ...     ...\n",
      "95     96       97.0    98.0\n",
      "96     97       98.0    99.0\n",
      "97     98       99.0   100.0\n",
      "98     99      100.0     NaN\n",
      "99    100        NaN     NaN\n",
      "\n",
      "[100 rows x 3 columns]\n",
      "\n",
      "Apos excluir NaN\n",
      "    Count  Feature_2  Target\n",
      "0       1        2.0     3.0\n",
      "1       2        3.0     4.0\n",
      "2       3        4.0     5.0\n",
      "3       4        5.0     6.0\n",
      "4       5        6.0     7.0\n",
      "..    ...        ...     ...\n",
      "93     94       95.0    96.0\n",
      "94     95       96.0    97.0\n",
      "95     96       97.0    98.0\n",
      "96     97       98.0    99.0\n",
      "97     98       99.0   100.0\n",
      "\n",
      "[98 rows x 3 columns]\n",
      "-----------------------------------------------\n",
      "RMSE: 0.0000\n"
     ]
    }
   ],
   "source": [
    "import pandas as pd\n",
    "import numpy as np\n",
    "from sklearn.linear_model import LinearRegression\n",
    "from sklearn.metrics import mean_squared_error\n",
    "\n",
    "\n",
    "# cria dataset sintetico\n",
    "df_sum = pd.DataFrame(np.arange(1, 101), columns=['Count'])\n",
    "\n",
    "# copia do df original, qualquer mudanca que fizermos aqui\n",
    "# nao afetara o original\n",
    "df_dataset = df_sum.copy()\n",
    "\n",
    "df_dataset.insert(loc=1, column='Feature_2', value=df_dataset.Count.shift(-1))\n",
    "df_dataset.insert(loc=2, column='Target', value=df_dataset.Count.shift(-2))\n",
    "\n",
    "print('Dataset refeito com a Design Matrix X e Target Values y')\n",
    "print(df_dataset)\n",
    "\n",
    "# excluimos os valores NaN\n",
    "df_dataset.dropna(inplace=True)\n",
    "\n",
    "print('\\nApos excluir NaN')\n",
    "print(df_dataset)\n",
    "\n",
    "# vamos separar em train e test\n",
    "df_train = df_dataset.iloc[:89, :]\n",
    "df_test = df_dataset.iloc[89:, :]\n",
    "\n",
    "# separar entre features e labels\n",
    "X_train = df_train.drop(columns='Target')\n",
    "y_train = df_train.loc[:, 'Target']\n",
    "\n",
    "X_test = df_test.drop(columns='Target')\n",
    "y_test = df_test.loc[:, 'Target']\n",
    "\n",
    "# instanciando algoritmo\n",
    "lin_reg = LinearRegression()\n",
    "lin_reg.fit(X_train, y_train)\n",
    "\n",
    "# prevendo em dados que nunca viu\n",
    "y_pred = lin_reg.predict(X_test)\n",
    "\n",
    "# avaliando com RMSE\n",
    "rmse = mean_squared_error(y_test, y_pred, squared=False)\n",
    "print('-----------------------------------------------')\n",
    "print(f'RMSE: {rmse:.4f}')"
   ]
  },
  {
   "cell_type": "code",
   "execution_count": 38,
   "metadata": {},
   "outputs": [],
   "source": [
    "df_test.insert(loc=3, column='y_pred', value=y_pred)"
   ]
  },
  {
   "cell_type": "code",
   "execution_count": 39,
   "metadata": {},
   "outputs": [
    {
     "data": {
      "text/html": [
       "<div>\n",
       "<style scoped>\n",
       "    .dataframe tbody tr th:only-of-type {\n",
       "        vertical-align: middle;\n",
       "    }\n",
       "\n",
       "    .dataframe tbody tr th {\n",
       "        vertical-align: top;\n",
       "    }\n",
       "\n",
       "    .dataframe thead th {\n",
       "        text-align: right;\n",
       "    }\n",
       "</style>\n",
       "<table border=\"1\" class=\"dataframe\">\n",
       "  <thead>\n",
       "    <tr style=\"text-align: right;\">\n",
       "      <th></th>\n",
       "      <th>Count</th>\n",
       "      <th>Feature_2</th>\n",
       "      <th>Target</th>\n",
       "      <th>y_pred</th>\n",
       "    </tr>\n",
       "  </thead>\n",
       "  <tbody>\n",
       "    <tr>\n",
       "      <th>89</th>\n",
       "      <td>90</td>\n",
       "      <td>91.0</td>\n",
       "      <td>92.0</td>\n",
       "      <td>92.0</td>\n",
       "    </tr>\n",
       "    <tr>\n",
       "      <th>90</th>\n",
       "      <td>91</td>\n",
       "      <td>92.0</td>\n",
       "      <td>93.0</td>\n",
       "      <td>93.0</td>\n",
       "    </tr>\n",
       "    <tr>\n",
       "      <th>91</th>\n",
       "      <td>92</td>\n",
       "      <td>93.0</td>\n",
       "      <td>94.0</td>\n",
       "      <td>94.0</td>\n",
       "    </tr>\n",
       "    <tr>\n",
       "      <th>92</th>\n",
       "      <td>93</td>\n",
       "      <td>94.0</td>\n",
       "      <td>95.0</td>\n",
       "      <td>95.0</td>\n",
       "    </tr>\n",
       "    <tr>\n",
       "      <th>93</th>\n",
       "      <td>94</td>\n",
       "      <td>95.0</td>\n",
       "      <td>96.0</td>\n",
       "      <td>96.0</td>\n",
       "    </tr>\n",
       "    <tr>\n",
       "      <th>94</th>\n",
       "      <td>95</td>\n",
       "      <td>96.0</td>\n",
       "      <td>97.0</td>\n",
       "      <td>97.0</td>\n",
       "    </tr>\n",
       "    <tr>\n",
       "      <th>95</th>\n",
       "      <td>96</td>\n",
       "      <td>97.0</td>\n",
       "      <td>98.0</td>\n",
       "      <td>98.0</td>\n",
       "    </tr>\n",
       "    <tr>\n",
       "      <th>96</th>\n",
       "      <td>97</td>\n",
       "      <td>98.0</td>\n",
       "      <td>99.0</td>\n",
       "      <td>99.0</td>\n",
       "    </tr>\n",
       "    <tr>\n",
       "      <th>97</th>\n",
       "      <td>98</td>\n",
       "      <td>99.0</td>\n",
       "      <td>100.0</td>\n",
       "      <td>100.0</td>\n",
       "    </tr>\n",
       "  </tbody>\n",
       "</table>\n",
       "</div>"
      ],
      "text/plain": [
       "    Count  Feature_2  Target  y_pred\n",
       "89     90       91.0    92.0    92.0\n",
       "90     91       92.0    93.0    93.0\n",
       "91     92       93.0    94.0    94.0\n",
       "92     93       94.0    95.0    95.0\n",
       "93     94       95.0    96.0    96.0\n",
       "94     95       96.0    97.0    97.0\n",
       "95     96       97.0    98.0    98.0\n",
       "96     97       98.0    99.0    99.0\n",
       "97     98       99.0   100.0   100.0"
      ]
     },
     "execution_count": 39,
     "metadata": {},
     "output_type": "execute_result"
    }
   ],
   "source": [
    "df_test"
   ]
  }
 ],
 "metadata": {
  "kernelspec": {
   "display_name": "Python 3",
   "language": "python",
   "name": "python3"
  },
  "language_info": {
   "codemirror_mode": {
    "name": "ipython",
    "version": 3
   },
   "file_extension": ".py",
   "mimetype": "text/x-python",
   "name": "python",
   "nbconvert_exporter": "python",
   "pygments_lexer": "ipython3",
   "version": "3.7.7"
  },
  "toc": {
   "base_numbering": 1,
   "nav_menu": {},
   "number_sections": true,
   "sideBar": true,
   "skip_h1_title": false,
   "title_cell": "Table of Contents",
   "title_sidebar": "Contents",
   "toc_cell": true,
   "toc_position": {},
   "toc_section_display": true,
   "toc_window_display": false
  },
  "varInspector": {
   "cols": {
    "lenName": 16,
    "lenType": 16,
    "lenVar": 40
   },
   "kernels_config": {
    "python": {
     "delete_cmd_postfix": "",
     "delete_cmd_prefix": "del ",
     "library": "var_list.py",
     "varRefreshCmd": "print(var_dic_list())"
    },
    "r": {
     "delete_cmd_postfix": ") ",
     "delete_cmd_prefix": "rm(",
     "library": "var_list.r",
     "varRefreshCmd": "cat(var_dic_list()) "
    }
   },
   "types_to_exclude": [
    "module",
    "function",
    "builtin_function_or_method",
    "instance",
    "_Feature"
   ],
   "window_display": false
  }
 },
 "nbformat": 4,
 "nbformat_minor": 4
}
